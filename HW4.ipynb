{
 "cells": [
  {
   "cell_type": "code",
   "execution_count": 14,
   "metadata": {},
   "outputs": [
    {
     "name": "stdout",
     "output_type": "stream",
     "text": [
      "[(75, 1/214375)]\n",
      "[(150, -1/312500)]\n",
      "To maximize profit, buy and sell 100.000000000000 units.\n",
      "For y_bar = 75, y = 75.0000000000000, λ = 0.00000466472303206997\n",
      "For y_bar = 150, y = 150.000000000000, λ = -0.00000320000000000000\n"
     ]
    }
   ],
   "source": [
    "from sympy import symbols, diff, Eq, solve, lambdify\n",
    "\n",
    "# Define variables\n",
    "y, lambda_symbol = symbols('y lambda')\n",
    "\n",
    "# Define b(y)\n",
    "b_y = 1 / (100 + y) ** 2\n",
    "\n",
    "# Define Profit function P(y)\n",
    "P_y = y * b_y\n",
    "\n",
    "# Find derivative of Profit function and solve for y\n",
    "P_prime_y = diff(P_y, y)\n",
    "critical_points = solve(P_prime_y, y)\n",
    "\n",
    "# Check the critical points found to determine the value of y that maximizes profit\n",
    "y_max_profit = critical_points[0] if len(critical_points) > 0 else 0\n",
    "\n",
    "# Define the Lagrangian L = P(y) + λ(ȳ - y)\n",
    "y_bar = symbols('y_bar')  # ȳ\n",
    "Lagrangian = P_y + lambda_symbol * (y_bar - y)\n",
    "\n",
    "# Solve the Lagrangian for given ȳ values\n",
    "y_bars = [75, 150]\n",
    "lagrange_multipliers = []\n",
    "\n",
    "for y_value in y_bars:\n",
    "    # Take the derivative of Lagrangian with respect to y and λ, and solve\n",
    "    dL_dy = diff(Lagrangian.subs(y_bar, y_value), y)\n",
    "    dL_dlambda = diff(Lagrangian.subs(y_bar, y_value), lambda_symbol)\n",
    "    solutions = solve((dL_dy, dL_dlambda), (y, lambda_symbol))\n",
    "\n",
    "    print(solutions)    \n",
    "    \n",
    "    lagrange_multipliers.append({\n",
    "        'y_bar': y_value,\n",
    "        'y': solutions[0][0],\n",
    "        'lambda': solutions[0][1]\n",
    "    })\n",
    "\n",
    "# Print Results\n",
    "print(f\"To maximize profit, buy and sell {y_max_profit.evalf()} units.\")\n",
    "for lagrange_multiplier in lagrange_multipliers:\n",
    "    print(f\"For y_bar = {lagrange_multiplier['y_bar']}, y = {lagrange_multiplier['y'].evalf()}, λ = {lagrange_multiplier['lambda'].evalf()}\")\n",
    "\n"
   ]
  }
 ],
 "metadata": {
  "kernelspec": {
   "display_name": "base",
   "language": "python",
   "name": "python3"
  },
  "language_info": {
   "codemirror_mode": {
    "name": "ipython",
    "version": 3
   },
   "file_extension": ".py",
   "mimetype": "text/x-python",
   "name": "python",
   "nbconvert_exporter": "python",
   "pygments_lexer": "ipython3",
   "version": "3.1.0"
  },
  "orig_nbformat": 4
 },
 "nbformat": 4,
 "nbformat_minor": 2
}
