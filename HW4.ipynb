{
 "cells": [
  {
   "cell_type": "code",
   "execution_count": 41,
   "metadata": {},
   "outputs": [
    {
     "name": "stdout",
     "output_type": "stream",
     "text": [
      "[(75, 1/214375)]\n",
      "[(150, -1/312500)]\n",
      "To maximize profit, buy and sell 100.000000000000 units.\n",
      "For y_bar = 75, y = 75.0000000000000, λ = 0.00000466472303206997\n",
      "For y_bar = 150, y = 150.000000000000, λ = -0.00000320000000000000\n"
     ]
    }
   ],
   "source": [
    "from sympy import symbols, diff, Eq, solve, lambdify\n",
    "\n",
    "# Define variables\n",
    "y, lambda_symbol = symbols('y lambda')\n",
    "\n",
    "# Define b(y)\n",
    "b_y = 1 / (100 + y) ** 2\n",
    "\n",
    "# Define Profit function P(y)\n",
    "P_y = y * b_y\n",
    "\n",
    "# Find derivative of Profit function and solve for y\n",
    "P_prime_y = diff(P_y, y)\n",
    "critical_points = solve(P_prime_y, y)\n",
    "\n",
    "# Check the critical points found to determine the value of y that maximizes profit\n",
    "y_max_profit = critical_points[0] if len(critical_points) > 0 else 0\n",
    "\n",
    "# Define the Lagrangian L = P(y) + λ(ȳ - y)\n",
    "y_bar = symbols('y_bar')  # ȳ\n",
    "Lagrangian = P_y + lambda_symbol * (y_bar - y)\n",
    "\n",
    "# Solve the Lagrangian for given ȳ values\n",
    "y_bars = [75, 150]\n",
    "lagrange_multipliers = []\n",
    "\n",
    "for y_value in y_bars:\n",
    "    # Take the derivative of Lagrangian with respect to y and λ, and solve\n",
    "    dL_dy = diff(Lagrangian.subs(y_bar, y_value), y)\n",
    "    dL_dlambda = diff(Lagrangian.subs(y_bar, y_value), lambda_symbol)\n",
    "    solutions = solve((dL_dy, dL_dlambda), (y, lambda_symbol))\n",
    "\n",
    "    print(solutions)    \n",
    "    \n",
    "    lagrange_multipliers.append({\n",
    "        'y_bar': y_value,\n",
    "        'y': solutions[0][0],\n",
    "        'lambda': solutions[0][1]\n",
    "    })\n",
    "\n",
    "# Print Results\n",
    "print(f\"To maximize profit, buy and sell {y_max_profit.evalf()} units.\")\n",
    "for lagrange_multiplier in lagrange_multipliers:\n",
    "    print(f\"For y_bar = {lagrange_multiplier['y_bar']}, y = {lagrange_multiplier['y'].evalf()}, λ = {lagrange_multiplier['lambda'].evalf()}\")\n"
   ]
  },
  {
   "cell_type": "code",
   "execution_count": 42,
   "metadata": {},
   "outputs": [
    {
     "name": "stdout",
     "output_type": "stream",
     "text": [
      "Gurobi 10.0.3:   qp:nonconvex = 2\n",
      "\bGurobi 10.0.3: optimal solution; objective 24.94163745\n",
      "26932 simplex iterations\n",
      "2464 branching nodes\n",
      "absmipgap=0.00179202, relmipgap=7.18487e-05\n",
      "Optimal investments are x1 = 9.897231162050723, x2 = 35.35276883794928, x3 = 4.75\n",
      "Lagrange multiplier (shadow price) of the Budget constraint is    Budget.dual\n",
      "0            0\n"
     ]
    }
   ],
   "source": [
    "from amplpy import AMPL, Environment\n",
    "\n",
    "ampl = AMPL()  # Replace with your AMPL installation path\n",
    "\n",
    "# Define the variables with their respective bounds\n",
    "ampl.eval('var x1 >= 0;')\n",
    "ampl.eval('var x2 >= 0;')\n",
    "ampl.eval('var x3 >= 0;')\n",
    "\n",
    "# Define the objective function\n",
    "ampl.eval('maximize Profit: 10*x1/(1 + x1) + sqrt(x2) + 10*(1 - exp(-x3));')\n",
    "\n",
    "# Define the constraints\n",
    "ampl.eval('s.t. Budget: x1 + x2 + x3 <= 50;')\n",
    "\n",
    "# Choose a solver\n",
    "ampl.setOption('solver', 'gurobi')  # Replace with your solver\n",
    "ampl.eval(\"option gurobi_options 'nonconvex=2';\")\n",
    "\n",
    "# Solve the problem\n",
    "ampl.solve()\n",
    "\n",
    "# Get the results\n",
    "x1 = ampl.getVariable('x1').get().value()\n",
    "x2 = ampl.getVariable('x2').get().value()\n",
    "x3 = ampl.getVariable('x3').get().value()\n",
    "\n",
    "lagrange_multiplier = ampl.getConstraint('Budget').get_values().to_pandas()\n",
    "\n",
    "\n",
    "# Display the results\n",
    "print(f'Optimal investments are x1 = {x1}, x2 = {x2}, x3 = {x3}')\n"
   ]
  },
  {
   "cell_type": "code",
   "execution_count": 43,
   "metadata": {},
   "outputs": [
    {
     "name": "stdout",
     "output_type": "stream",
     "text": [
      "Lambda:  0.08413203492281647\n",
      "Optimal investments are x1 = 9.90232949385604, x2 = 35.31971754327805, x3 = 4.777952962867916\n"
     ]
    }
   ],
   "source": [
    "import math\n",
    "\n",
    "def f(lamb):\n",
    "    return math.sqrt(10 / lamb) - 1 + 1 / (4 * lamb ** 2) + math.log(10 / lamb) - 50\n",
    "\n",
    "# Derivative of the function\n",
    "def df(lamb):\n",
    "    return -5 / (2 * lamb ** 1.5) - 1 / (2 * lamb ** 3) - 1 / lamb\n",
    "\n",
    "# Initial guess\n",
    "lamb = 0.1 \n",
    "max_iter = 10000000\n",
    "tol = 1e-12\n",
    "\n",
    "for i in range(max_iter):\n",
    "    lamb_new = lamb - f(lamb) / df(lamb)  # Newton-Raphson update\n",
    "    \n",
    "    if abs(lamb_new - lamb) < tol:\n",
    "        break\n",
    "    \n",
    "    lamb = lamb_new\n",
    "else:\n",
    "    print(\"The method did not converge\")\n",
    "\n",
    "\n",
    "x1 = math.sqrt(10/lamb_new)-1\n",
    "x2 = 1/(4*lamb_new**2)\n",
    "x3=math.log(10/lamb_new)\n",
    "\n",
    "print(\"Lambda: \", lamb_new)\n",
    "print(f'Optimal investments are x1 = {x1}, x2 = {x2}, x3 = {x3}')\n"
   ]
  },
  {
   "cell_type": "code",
   "execution_count": 44,
   "metadata": {},
   "outputs": [
    {
     "name": "stdout",
     "output_type": "stream",
     "text": [
      "Lambda:  0.08413203492286606\n",
      "Optimal investments are x1 = 9.902329493852827, x2 = 35.31971754323642, x3 = 4.777952962867326\n"
     ]
    }
   ],
   "source": [
    "import math\n",
    "\n",
    "def f(lamb):\n",
    "    return math.sqrt(10 / lamb) - 1 + 1 / (4 * lamb ** 2) + math.log(10 / lamb) - 50\n",
    "\n",
    "# Define the derivative of the function\n",
    "def df(lamb):\n",
    "    return - (-5 / (2 * lamb ** 1.5)) - 1 / (2 * lamb ** 3) - 1 / lamb\n",
    "\n",
    "# Initial guess\n",
    "lamb = 0.1  # This is just a guess, it might need to be adjusted\n",
    "\n",
    "# Iteration count\n",
    "max_iter = 10000000\n",
    "\n",
    "# Tolerance\n",
    "tol = 1e-12\n",
    "\n",
    "for i in range(max_iter):\n",
    "    lamb_new = lamb - f(lamb) / df(lamb)  # Newton-Raphson update\n",
    "    \n",
    "    # Check for convergence\n",
    "    if abs(lamb_new - lamb) < tol:\n",
    "        break\n",
    "    \n",
    "    lamb = lamb_new\n",
    "else:\n",
    "    print(\"The method did not converge\")\n",
    "\n",
    "\n",
    "x1 = math.sqrt(10/lamb_new)-1\n",
    "x2 = 1/(4*lamb_new**2)\n",
    "x3=math.log(10/lamb_new)\n",
    "\n",
    "print(\"Lambda: \", lamb_new)\n",
    "print(f'Optimal investments are x1 = {x1}, x2 = {x2}, x3 = {x3}')\n"
   ]
  },
  {
   "cell_type": "code",
   "execution_count": 45,
   "metadata": {},
   "outputs": [
    {
     "ename": "TypeError",
     "evalue": "%d format: a real number is required, not Symbol",
     "output_type": "error",
     "traceback": [
      "\u001b[0;31m---------------------------------------------------------------------------\u001b[0m",
      "\u001b[0;31mTypeError\u001b[0m                                 Traceback (most recent call last)",
      "\u001b[1;32m/home/job/Documents/UIUC_MSFE/Semester3/IE_524_Optimization_In_Finance/HW4.ipynb Cell 6\u001b[0m line \u001b[0;36m5\n\u001b[1;32m      <a href='vscode-notebook-cell:/home/job/Documents/UIUC_MSFE/Semester3/IE_524_Optimization_In_Finance/HW4.ipynb#X11sZmlsZQ%3D%3D?line=2'>3</a>\u001b[0m \u001b[39m# Define variables\u001b[39;00m\n\u001b[1;32m      <a href='vscode-notebook-cell:/home/job/Documents/UIUC_MSFE/Semester3/IE_524_Optimization_In_Finance/HW4.ipynb#X11sZmlsZQ%3D%3D?line=3'>4</a>\u001b[0m n \u001b[39m=\u001b[39m symbols(\u001b[39m'\u001b[39m\u001b[39mn\u001b[39m\u001b[39m'\u001b[39m, integer\u001b[39m=\u001b[39m\u001b[39mTrue\u001b[39;00m)  \u001b[39m# number of assets\u001b[39;00m\n\u001b[0;32m----> <a href='vscode-notebook-cell:/home/job/Documents/UIUC_MSFE/Semester3/IE_524_Optimization_In_Finance/HW4.ipynb#X11sZmlsZQ%3D%3D?line=4'>5</a>\u001b[0m x \u001b[39m=\u001b[39m symbols(\u001b[39m'\u001b[39m\u001b[39mx:\u001b[39m\u001b[39m%d\u001b[39;00m\u001b[39m'\u001b[39m \u001b[39m%\u001b[39m n)  \u001b[39m# fractions of wealth invested in assets\u001b[39;00m\n\u001b[1;32m      <a href='vscode-notebook-cell:/home/job/Documents/UIUC_MSFE/Semester3/IE_524_Optimization_In_Finance/HW4.ipynb#X11sZmlsZQ%3D%3D?line=5'>6</a>\u001b[0m x0 \u001b[39m=\u001b[39m symbols(\u001b[39m'\u001b[39m\u001b[39mx0\u001b[39m\u001b[39m'\u001b[39m)  \u001b[39m# fraction of wealth not invested\u001b[39;00m\n\u001b[1;32m      <a href='vscode-notebook-cell:/home/job/Documents/UIUC_MSFE/Semester3/IE_524_Optimization_In_Finance/HW4.ipynb#X11sZmlsZQ%3D%3D?line=6'>7</a>\u001b[0m p \u001b[39m=\u001b[39m symbols(\u001b[39m'\u001b[39m\u001b[39mp:\u001b[39m\u001b[39m%d\u001b[39;00m\u001b[39m'\u001b[39m \u001b[39m%\u001b[39m n)  \u001b[39m# probabilities of winning\u001b[39;00m\n",
      "\u001b[0;31mTypeError\u001b[0m: %d format: a real number is required, not Symbol"
     ]
    }
   ],
   "source": [
    "from sympy import symbols, Eq, solve, log\n",
    "\n",
    "# Define variables\n",
    "n = symbols('n', integer=True)  # number of assets\n",
    "x = symbols('x:%d' % n)  # fractions of wealth invested in assets\n",
    "x0 = symbols('x0')  # fraction of wealth not invested\n",
    "p = symbols('p:%d' % n)  # probabilities of winning\n",
    "b = symbols('b:%d' % n)  # returns\n",
    "λ = symbols('λ')  # Lagrange multiplier for the sum constraint\n",
    "μ = symbols('μ:%d' % (n + 1))  # Lagrange multipliers for the ≥ 0 constraints\n",
    "\n",
    "# Define the utility function U(x)\n",
    "U = sum(p[i] * x[i] * log(1 + b[i]) for i in range(n)) + x0 * log(1)\n",
    "\n",
    "# Define the Lagrangian L\n",
    "L = U + λ * (sum(x) + x0 - 1) - sum(μ[i] * x[i] for i in range(n)) - μ[n] * x0\n",
    "\n",
    "# Define the KKT conditions\n",
    "KKT_conditions = [Eq(L.diff(x[i]), 0) for i in range(n)] + [Eq(L.diff(x0), 0)]\n",
    "\n",
    "# Solve the KKT conditions\n",
    "solution = solve(KKT_conditions, dict=True)\n",
    "\n",
    "# Analyze the solution to deduce whether x0* > 0\n",
    "# You would typically look at the values of the Lagrange multipliers and the dual variables to draw conclusions about x0*.\n"
   ]
  }
 ],
 "metadata": {
  "kernelspec": {
   "display_name": "base",
   "language": "python",
   "name": "python3"
  },
  "language_info": {
   "codemirror_mode": {
    "name": "ipython",
    "version": 3
   },
   "file_extension": ".py",
   "mimetype": "text/x-python",
   "name": "python",
   "nbconvert_exporter": "python",
   "pygments_lexer": "ipython3",
   "version": "3.11.4"
  },
  "orig_nbformat": 4
 },
 "nbformat": 4,
 "nbformat_minor": 2
}
