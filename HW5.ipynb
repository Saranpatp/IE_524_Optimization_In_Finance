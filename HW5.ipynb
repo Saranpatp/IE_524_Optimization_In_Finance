{
 "cells": [
  {
   "cell_type": "markdown",
   "metadata": {},
   "source": [
    "Saranpat Prasertthum: sp73@illinois.edu"
   ]
  },
  {
   "cell_type": "code",
   "execution_count": 13,
   "metadata": {},
   "outputs": [],
   "source": [
    "import pandas as pd\n",
    "import numpy as np"
   ]
  },
  {
   "cell_type": "markdown",
   "metadata": {},
   "source": [
    "1) Use the data to estimate the mean return and covariance matrix."
   ]
  },
  {
   "cell_type": "code",
   "execution_count": 14,
   "metadata": {},
   "outputs": [
    {
     "data": {
      "text/html": [
       "<div>\n",
       "<style scoped>\n",
       "    .dataframe tbody tr th:only-of-type {\n",
       "        vertical-align: middle;\n",
       "    }\n",
       "\n",
       "    .dataframe tbody tr th {\n",
       "        vertical-align: top;\n",
       "    }\n",
       "\n",
       "    .dataframe thead th {\n",
       "        text-align: right;\n",
       "    }\n",
       "</style>\n",
       "<table border=\"1\" class=\"dataframe\">\n",
       "  <thead>\n",
       "    <tr style=\"text-align: right;\">\n",
       "      <th></th>\n",
       "      <th>Stock</th>\n",
       "      <th>Treasury Bond</th>\n",
       "      <th>Money Market</th>\n",
       "      <th>NASDAQ</th>\n",
       "    </tr>\n",
       "    <tr>\n",
       "      <th>Year</th>\n",
       "      <th></th>\n",
       "      <th></th>\n",
       "      <th></th>\n",
       "      <th></th>\n",
       "    </tr>\n",
       "  </thead>\n",
       "  <tbody>\n",
       "    <tr>\n",
       "      <th>1961</th>\n",
       "      <td>26.81</td>\n",
       "      <td>2.20</td>\n",
       "      <td>2.33</td>\n",
       "      <td>31.664780</td>\n",
       "    </tr>\n",
       "    <tr>\n",
       "      <th>1962</th>\n",
       "      <td>-8.78</td>\n",
       "      <td>5.72</td>\n",
       "      <td>2.93</td>\n",
       "      <td>-15.024354</td>\n",
       "    </tr>\n",
       "    <tr>\n",
       "      <th>1963</th>\n",
       "      <td>22.69</td>\n",
       "      <td>1.79</td>\n",
       "      <td>3.38</td>\n",
       "      <td>20.445586</td>\n",
       "    </tr>\n",
       "    <tr>\n",
       "      <th>1964</th>\n",
       "      <td>16.36</td>\n",
       "      <td>3.71</td>\n",
       "      <td>3.85</td>\n",
       "      <td>23.118500</td>\n",
       "    </tr>\n",
       "    <tr>\n",
       "      <th>1965</th>\n",
       "      <td>12.36</td>\n",
       "      <td>0.93</td>\n",
       "      <td>4.32</td>\n",
       "      <td>17.152602</td>\n",
       "    </tr>\n",
       "  </tbody>\n",
       "</table>\n",
       "</div>"
      ],
      "text/plain": [
       "      Stock  Treasury Bond  Money Market     NASDAQ\n",
       "Year                                               \n",
       "1961  26.81           2.20          2.33  31.664780\n",
       "1962  -8.78           5.72          2.93 -15.024354\n",
       "1963  22.69           1.79          3.38  20.445586\n",
       "1964  16.36           3.71          3.85  23.118500\n",
       "1965  12.36           0.93          4.32  17.152602"
      ]
     },
     "execution_count": 14,
     "metadata": {},
     "output_type": "execute_result"
    }
   ],
   "source": [
    "data = pd.read_excel('DataforHomework5.xlsx',index_col='Year')\n",
    "data.head()"
   ]
  },
  {
   "cell_type": "code",
   "execution_count": 15,
   "metadata": {},
   "outputs": [
    {
     "data": {
      "text/plain": [
       "Stock            12.044186\n",
       "Treasury Bond     7.792326\n",
       "Money Market      6.323023\n",
       "NASDAQ           12.899098\n",
       "dtype: float64"
      ]
     },
     "execution_count": 15,
     "metadata": {},
     "output_type": "execute_result"
    }
   ],
   "source": [
    "expected_returns = data.mean()\n",
    "expected_returns"
   ]
  },
  {
   "cell_type": "code",
   "execution_count": 16,
   "metadata": {},
   "outputs": [
    {
     "data": {
      "text/html": [
       "<div>\n",
       "<style scoped>\n",
       "    .dataframe tbody tr th:only-of-type {\n",
       "        vertical-align: middle;\n",
       "    }\n",
       "\n",
       "    .dataframe tbody tr th {\n",
       "        vertical-align: top;\n",
       "    }\n",
       "\n",
       "    .dataframe thead th {\n",
       "        text-align: right;\n",
       "    }\n",
       "</style>\n",
       "<table border=\"1\" class=\"dataframe\">\n",
       "  <thead>\n",
       "    <tr style=\"text-align: right;\">\n",
       "      <th></th>\n",
       "      <th>Stock</th>\n",
       "      <th>Treasury Bond</th>\n",
       "      <th>Money Market</th>\n",
       "      <th>NASDAQ</th>\n",
       "    </tr>\n",
       "  </thead>\n",
       "  <tbody>\n",
       "    <tr>\n",
       "      <th>Stock</th>\n",
       "      <td>283.919768</td>\n",
       "      <td>38.850792</td>\n",
       "      <td>2.092916</td>\n",
       "      <td>357.149248</td>\n",
       "    </tr>\n",
       "    <tr>\n",
       "      <th>Treasury Bond</th>\n",
       "      <td>38.850792</td>\n",
       "      <td>114.793828</td>\n",
       "      <td>-2.448836</td>\n",
       "      <td>-6.498260</td>\n",
       "    </tr>\n",
       "    <tr>\n",
       "      <th>Money Market</th>\n",
       "      <td>2.092916</td>\n",
       "      <td>-2.448836</td>\n",
       "      <td>11.814812</td>\n",
       "      <td>-4.392481</td>\n",
       "    </tr>\n",
       "    <tr>\n",
       "      <th>NASDAQ</th>\n",
       "      <td>357.149248</td>\n",
       "      <td>-6.498260</td>\n",
       "      <td>-4.392481</td>\n",
       "      <td>649.448769</td>\n",
       "    </tr>\n",
       "  </tbody>\n",
       "</table>\n",
       "</div>"
      ],
      "text/plain": [
       "                    Stock  Treasury Bond  Money Market      NASDAQ\n",
       "Stock          283.919768      38.850792      2.092916  357.149248\n",
       "Treasury Bond   38.850792     114.793828     -2.448836   -6.498260\n",
       "Money Market     2.092916      -2.448836     11.814812   -4.392481\n",
       "NASDAQ         357.149248      -6.498260     -4.392481  649.448769"
      ]
     },
     "execution_count": 16,
     "metadata": {},
     "output_type": "execute_result"
    }
   ],
   "source": [
    "cov_matrix = data.cov()\n",
    "cov_matrix"
   ]
  },
  {
   "cell_type": "markdown",
   "metadata": {},
   "source": [
    "2) Let risk -free return be 3% solve a nonlinear optimization model to construct a portfoli of these four assets to maximize the Sharpe Ratio."
   ]
  },
  {
   "cell_type": "code",
   "execution_count": 17,
   "metadata": {},
   "outputs": [
    {
     "name": "stdout",
     "output_type": "stream",
     "text": [
      "Optimal k: 0.14894533186969777\n",
      "Optimal y: [5.11731844e-17 1.81559434e-02 1.25313935e-01 5.47545351e-03]\n",
      "Optimal x: [3.43570247e-16 1.21896693e-01 8.41341809e-01 3.67614979e-02]\n",
      "Optimal Sharpe ratio is 2.1110806469204175\n"
     ]
    }
   ],
   "source": [
    "from scipy.optimize import minimize\n",
    "# using trick\n",
    "\n",
    "# minimize y_t @ cov_matrix @ y\n",
    "def objective(params):\n",
    "    k = params[0]\n",
    "    y = params[1:]\n",
    "    return y @ cov_matrix @ y\n",
    "\n",
    "# Constraint 1: Sum of y equals k\n",
    "def constraint1(params):\n",
    "    k = params[0]\n",
    "    y = params[1:]\n",
    "    return np.sum(y) - k\n",
    "\n",
    "# Constraint 2: Weighted sum of (expected_returns - rf) @ y equals 1\n",
    "def constraint2(params):\n",
    "    k = params[0]\n",
    "    y = params[1:]\n",
    "    return np.sum((expected_returns - 0.03) * y) - 1\n",
    "\n",
    "cons = (\n",
    "    {'type': 'eq', 'fun': constraint1},\n",
    "    {'type': 'eq', 'fun': constraint2}\n",
    ")\n",
    "\n",
    "# Initial guess\n",
    "initial_y = np.array([0.25, 0.25, 0.25, 0.25])\n",
    "initial_guess = [1] + list(initial_y)  # 1 for initial k and initial_y values for y\n",
    "\n",
    "# Bounds for k and y. k \n",
    "k_bounds = (0, None)\n",
    "y_bounds = [(0, None) for _ in initial_y]\n",
    "all_bounds = [k_bounds] + y_bounds\n",
    "\n",
    "result = minimize(objective, initial_guess, constraints=cons, bounds=all_bounds)\n",
    "\n",
    "k_opt = result.x[0]\n",
    "y_opt = result.x[1:]\n",
    "opt_x = y_opt/sum(y_opt)\n",
    "\n",
    "print(\"Optimal k:\", k_opt)\n",
    "print(\"Optimal y:\", y_opt)\n",
    "print(\"Optimal x:\", opt_x)\n",
    "print(f\"Optimal Sharpe ratio is {1/np.sqrt(y_opt @ cov_matrix @ y_opt)}\")"
   ]
  },
  {
   "cell_type": "code",
   "execution_count": 18,
   "metadata": {},
   "outputs": [
    {
     "name": "stdout",
     "output_type": "stream",
     "text": [
      "the optimal portfolio of these four assets is\n",
      "Optimal weight for Stock is 0.00 %\n",
      "Optimal weight for Treasury Bond is 12.19 %\n",
      "Optimal weight for Money Market is 84.13 %\n",
      "Optimal weight for NASDAQ is 3.68 %\n"
     ]
    }
   ],
   "source": [
    "print(\"the optimal portfolio of these four assets is\")\n",
    "for i in range(len(opt_x)):\n",
    "    print(f\"Optimal weight for {expected_returns.index[i]} is {opt_x[i]*100:.2f} %\")\n"
   ]
  },
  {
   "cell_type": "markdown",
   "metadata": {},
   "source": [
    "3) Construct the portfolio of these four assets to minimize the MAD unter the condition that mean reaturn of the porfolio is at least 9%"
   ]
  },
  {
   "cell_type": "code",
   "execution_count": 19,
   "metadata": {},
   "outputs": [
    {
     "data": {
      "text/html": [
       "<div>\n",
       "<style scoped>\n",
       "    .dataframe tbody tr th:only-of-type {\n",
       "        vertical-align: middle;\n",
       "    }\n",
       "\n",
       "    .dataframe tbody tr th {\n",
       "        vertical-align: top;\n",
       "    }\n",
       "\n",
       "    .dataframe thead th {\n",
       "        text-align: right;\n",
       "    }\n",
       "</style>\n",
       "<table border=\"1\" class=\"dataframe\">\n",
       "  <thead>\n",
       "    <tr style=\"text-align: right;\">\n",
       "      <th></th>\n",
       "      <th>Stock</th>\n",
       "      <th>Treasury Bond</th>\n",
       "      <th>Money Market</th>\n",
       "      <th>NASDAQ</th>\n",
       "    </tr>\n",
       "    <tr>\n",
       "      <th>Year</th>\n",
       "      <th></th>\n",
       "      <th></th>\n",
       "      <th></th>\n",
       "      <th></th>\n",
       "    </tr>\n",
       "  </thead>\n",
       "  <tbody>\n",
       "    <tr>\n",
       "      <th>1961</th>\n",
       "      <td>14.765814</td>\n",
       "      <td>-5.592326</td>\n",
       "      <td>-3.993023</td>\n",
       "      <td>18.765682</td>\n",
       "    </tr>\n",
       "    <tr>\n",
       "      <th>1962</th>\n",
       "      <td>-20.824186</td>\n",
       "      <td>-2.072326</td>\n",
       "      <td>-3.393023</td>\n",
       "      <td>-27.923452</td>\n",
       "    </tr>\n",
       "    <tr>\n",
       "      <th>1963</th>\n",
       "      <td>10.645814</td>\n",
       "      <td>-6.002326</td>\n",
       "      <td>-2.943023</td>\n",
       "      <td>7.546487</td>\n",
       "    </tr>\n",
       "    <tr>\n",
       "      <th>1964</th>\n",
       "      <td>4.315814</td>\n",
       "      <td>-4.082326</td>\n",
       "      <td>-2.473023</td>\n",
       "      <td>10.219401</td>\n",
       "    </tr>\n",
       "    <tr>\n",
       "      <th>1965</th>\n",
       "      <td>0.315814</td>\n",
       "      <td>-6.862326</td>\n",
       "      <td>-2.003023</td>\n",
       "      <td>4.253503</td>\n",
       "    </tr>\n",
       "  </tbody>\n",
       "</table>\n",
       "</div>"
      ],
      "text/plain": [
       "          Stock  Treasury Bond  Money Market     NASDAQ\n",
       "Year                                                   \n",
       "1961  14.765814      -5.592326     -3.993023  18.765682\n",
       "1962 -20.824186      -2.072326     -3.393023 -27.923452\n",
       "1963  10.645814      -6.002326     -2.943023   7.546487\n",
       "1964   4.315814      -4.082326     -2.473023  10.219401\n",
       "1965   0.315814      -6.862326     -2.003023   4.253503"
      ]
     },
     "execution_count": 19,
     "metadata": {},
     "output_type": "execute_result"
    }
   ],
   "source": [
    "returns = data\n",
    "y_minus_z = returns\n",
    "for col in expected_returns.index:\n",
    "    y_minus_z[col] = y_minus_z[col] - expected_returns[col]\n",
    "y_minus_z.head()"
   ]
  },
  {
   "cell_type": "markdown",
   "metadata": {},
   "source": [
    "### Converting to LP using techinique on the slide"
   ]
  },
  {
   "cell_type": "code",
   "execution_count": 20,
   "metadata": {},
   "outputs": [
    {
     "name": "stdout",
     "output_type": "stream",
     "text": [
      "Optimal value: 99.05460089338462\n",
      "Optimal y: [0.00000000e+00 0.00000000e+00 0.00000000e+00 0.00000000e+00\n",
      " 0.00000000e+00 0.00000000e+00 0.00000000e+00 0.00000000e+00\n",
      " 1.13414150e+00 0.00000000e+00 0.00000000e+00 0.00000000e+00\n",
      " 1.73612254e+00 1.54443522e-01 0.00000000e+00 0.00000000e+00\n",
      " 0.00000000e+00 2.88204870e+00 6.86767886e+00 1.18943332e+01\n",
      " 4.72842090e+00 4.31019577e+00 2.94355487e+00 1.62609154e+00\n",
      " 3.59436149e+00 1.20297053e+00 0.00000000e+00 2.33136350e+00\n",
      " 2.93256441e+00 0.00000000e+00 3.53977629e-10 0.00000000e+00\n",
      " 0.00000000e+00 0.00000000e+00 1.16742367e+00 0.00000000e+00\n",
      " 2.15854966e-02 0.00000000e+00 8.72107081e-10 0.00000000e+00\n",
      " 0.00000000e+00 0.00000000e+00 0.00000000e+00]\n",
      "Optimal z: [3.24638173e+00 4.16076515e+00 2.60380988e+00 2.16019404e+00\n",
      " 2.04744716e+00 1.74209767e+00 1.62625618e+00 2.87854037e-01\n",
      " 0.00000000e+00 1.42356843e+00 1.52072039e+00 9.26698890e-01\n",
      " 0.00000000e+00 0.00000000e+00 3.02669536e-01 6.99298451e-01\n",
      " 5.94861214e-01 0.00000000e+00 0.00000000e+00 0.00000000e+00\n",
      " 0.00000000e+00 0.00000000e+00 0.00000000e+00 0.00000000e+00\n",
      " 0.00000000e+00 0.00000000e+00 5.56523599e-01 0.00000000e+00\n",
      " 0.00000000e+00 3.48940047e-09 0.00000000e+00 3.17610809e+00\n",
      " 2.85397284e+00 1.99146385e+00 0.00000000e+00 8.75758417e-01\n",
      " 0.00000000e+00 3.62432146e-01 0.00000000e+00 9.59489190e-01\n",
      " 5.36747290e+00 5.88297192e+00 4.15848471e+00]\n",
      "Optimal x: [0.01962577 0.04389065 0.91676895 0.01971462]\n"
     ]
    }
   ],
   "source": [
    "import cvxpy as cp\n",
    "import numpy as np\n",
    "\n",
    "n = len(returns) \n",
    "y = cp.Variable(n, nonneg=True)  # y_t >= 0\n",
    "z = cp.Variable(n, nonneg=True)  # z_t >= 0\n",
    "x = cp.Variable(len(expected_returns))\n",
    "\n",
    "# Define the constraints\n",
    "constraints = [\n",
    "    y - z == y_minus_z.values @ x,\n",
    "    x @ expected_returns.values >= 0.09,\n",
    "    cp.sum(x) == 1 \n",
    "]\n",
    "\n",
    "objective = cp.Minimize(cp.sum(y + z))\n",
    "\n",
    "problem = cp.Problem(objective, constraints)\n",
    "\n",
    "problem.solve()\n",
    "\n",
    "print(\"Optimal value:\", problem.value)\n",
    "print(\"Optimal y:\", y.value)\n",
    "print(\"Optimal z:\", z.value)\n",
    "print(\"Optimal x:\", .xvalue)\n"
   ]
  },
  {
   "cell_type": "code",
   "execution_count": 24,
   "metadata": {},
   "outputs": [
    {
     "name": "stdout",
     "output_type": "stream",
     "text": [
      "the portfolio of these four assets to minimize the MAD unter the condition that mean reaturn of the porfolio is at least 9%. You most hold the following poportion of this\n",
      "Optimal weight for Stock is 1.96 %\n",
      "Optimal weight for Treasury Bond is 4.39 %\n",
      "Optimal weight for Money Market is 91.68 %\n",
      "Optimal weight for NASDAQ is 1.97 %\n"
     ]
    }
   ],
   "source": [
    "print(\"the portfolio of these four assets to minimize the MAD unter the condition that mean reaturn of the porfolio is at least 9%. You most hold the following poportion of this\")\n",
    "for i in range(len(x.value)):\n",
    "    print(f\"Optimal weight for {expected_returns.index[i]} is {x.value[i]*100:.2f} %\")\n",
    "    "
   ]
  }
 ],
 "metadata": {
  "kernelspec": {
   "display_name": "base",
   "language": "python",
   "name": "python3"
  },
  "language_info": {
   "codemirror_mode": {
    "name": "ipython",
    "version": 3
   },
   "file_extension": ".py",
   "mimetype": "text/x-python",
   "name": "python",
   "nbconvert_exporter": "python",
   "pygments_lexer": "ipython3",
   "version": "3.11.4"
  },
  "orig_nbformat": 4
 },
 "nbformat": 4,
 "nbformat_minor": 2
}
