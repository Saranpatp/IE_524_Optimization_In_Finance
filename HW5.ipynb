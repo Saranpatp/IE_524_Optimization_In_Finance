{
 "cells": [
  {
   "cell_type": "code",
   "execution_count": 7,
   "metadata": {},
   "outputs": [],
   "source": [
    "import pandas as pd\n",
    "import numpy as np"
   ]
  },
  {
   "cell_type": "markdown",
   "metadata": {},
   "source": [
    "1) Use the data to estimate the mean return and covariance matrix."
   ]
  },
  {
   "cell_type": "code",
   "execution_count": 8,
   "metadata": {},
   "outputs": [
    {
     "data": {
      "text/html": [
       "<div>\n",
       "<style scoped>\n",
       "    .dataframe tbody tr th:only-of-type {\n",
       "        vertical-align: middle;\n",
       "    }\n",
       "\n",
       "    .dataframe tbody tr th {\n",
       "        vertical-align: top;\n",
       "    }\n",
       "\n",
       "    .dataframe thead th {\n",
       "        text-align: right;\n",
       "    }\n",
       "</style>\n",
       "<table border=\"1\" class=\"dataframe\">\n",
       "  <thead>\n",
       "    <tr style=\"text-align: right;\">\n",
       "      <th></th>\n",
       "      <th>Stock</th>\n",
       "      <th>Treasury Bond</th>\n",
       "      <th>Money Market</th>\n",
       "      <th>NASDAQ</th>\n",
       "    </tr>\n",
       "    <tr>\n",
       "      <th>Year</th>\n",
       "      <th></th>\n",
       "      <th></th>\n",
       "      <th></th>\n",
       "      <th></th>\n",
       "    </tr>\n",
       "  </thead>\n",
       "  <tbody>\n",
       "    <tr>\n",
       "      <th>1961</th>\n",
       "      <td>26.81</td>\n",
       "      <td>2.20</td>\n",
       "      <td>2.33</td>\n",
       "      <td>31.664780</td>\n",
       "    </tr>\n",
       "    <tr>\n",
       "      <th>1962</th>\n",
       "      <td>-8.78</td>\n",
       "      <td>5.72</td>\n",
       "      <td>2.93</td>\n",
       "      <td>-15.024354</td>\n",
       "    </tr>\n",
       "    <tr>\n",
       "      <th>1963</th>\n",
       "      <td>22.69</td>\n",
       "      <td>1.79</td>\n",
       "      <td>3.38</td>\n",
       "      <td>20.445586</td>\n",
       "    </tr>\n",
       "    <tr>\n",
       "      <th>1964</th>\n",
       "      <td>16.36</td>\n",
       "      <td>3.71</td>\n",
       "      <td>3.85</td>\n",
       "      <td>23.118500</td>\n",
       "    </tr>\n",
       "    <tr>\n",
       "      <th>1965</th>\n",
       "      <td>12.36</td>\n",
       "      <td>0.93</td>\n",
       "      <td>4.32</td>\n",
       "      <td>17.152602</td>\n",
       "    </tr>\n",
       "  </tbody>\n",
       "</table>\n",
       "</div>"
      ],
      "text/plain": [
       "      Stock  Treasury Bond  Money Market     NASDAQ\n",
       "Year                                               \n",
       "1961  26.81           2.20          2.33  31.664780\n",
       "1962  -8.78           5.72          2.93 -15.024354\n",
       "1963  22.69           1.79          3.38  20.445586\n",
       "1964  16.36           3.71          3.85  23.118500\n",
       "1965  12.36           0.93          4.32  17.152602"
      ]
     },
     "execution_count": 8,
     "metadata": {},
     "output_type": "execute_result"
    }
   ],
   "source": [
    "data = pd.read_excel('DataforHomework5.xlsx',index_col='Year')\n",
    "data.head()"
   ]
  },
  {
   "cell_type": "code",
   "execution_count": 9,
   "metadata": {},
   "outputs": [
    {
     "data": {
      "text/plain": [
       "Stock            12.044186\n",
       "Treasury Bond     7.792326\n",
       "Money Market      6.323023\n",
       "NASDAQ           12.899098\n",
       "dtype: float64"
      ]
     },
     "execution_count": 9,
     "metadata": {},
     "output_type": "execute_result"
    }
   ],
   "source": [
    "expected_returns = data.mean()\n",
    "expected_returns"
   ]
  },
  {
   "cell_type": "code",
   "execution_count": 10,
   "metadata": {},
   "outputs": [
    {
     "data": {
      "text/html": [
       "<div>\n",
       "<style scoped>\n",
       "    .dataframe tbody tr th:only-of-type {\n",
       "        vertical-align: middle;\n",
       "    }\n",
       "\n",
       "    .dataframe tbody tr th {\n",
       "        vertical-align: top;\n",
       "    }\n",
       "\n",
       "    .dataframe thead th {\n",
       "        text-align: right;\n",
       "    }\n",
       "</style>\n",
       "<table border=\"1\" class=\"dataframe\">\n",
       "  <thead>\n",
       "    <tr style=\"text-align: right;\">\n",
       "      <th></th>\n",
       "      <th>Stock</th>\n",
       "      <th>Treasury Bond</th>\n",
       "      <th>Money Market</th>\n",
       "      <th>NASDAQ</th>\n",
       "    </tr>\n",
       "  </thead>\n",
       "  <tbody>\n",
       "    <tr>\n",
       "      <th>Stock</th>\n",
       "      <td>283.919768</td>\n",
       "      <td>38.850792</td>\n",
       "      <td>2.092916</td>\n",
       "      <td>357.149248</td>\n",
       "    </tr>\n",
       "    <tr>\n",
       "      <th>Treasury Bond</th>\n",
       "      <td>38.850792</td>\n",
       "      <td>114.793828</td>\n",
       "      <td>-2.448836</td>\n",
       "      <td>-6.498260</td>\n",
       "    </tr>\n",
       "    <tr>\n",
       "      <th>Money Market</th>\n",
       "      <td>2.092916</td>\n",
       "      <td>-2.448836</td>\n",
       "      <td>11.814812</td>\n",
       "      <td>-4.392481</td>\n",
       "    </tr>\n",
       "    <tr>\n",
       "      <th>NASDAQ</th>\n",
       "      <td>357.149248</td>\n",
       "      <td>-6.498260</td>\n",
       "      <td>-4.392481</td>\n",
       "      <td>649.448769</td>\n",
       "    </tr>\n",
       "  </tbody>\n",
       "</table>\n",
       "</div>"
      ],
      "text/plain": [
       "                    Stock  Treasury Bond  Money Market      NASDAQ\n",
       "Stock          283.919768      38.850792      2.092916  357.149248\n",
       "Treasury Bond   38.850792     114.793828     -2.448836   -6.498260\n",
       "Money Market     2.092916      -2.448836     11.814812   -4.392481\n",
       "NASDAQ         357.149248      -6.498260     -4.392481  649.448769"
      ]
     },
     "execution_count": 10,
     "metadata": {},
     "output_type": "execute_result"
    }
   ],
   "source": [
    "cov_matrix = data.cov()\n",
    "cov_matrix"
   ]
  },
  {
   "cell_type": "markdown",
   "metadata": {},
   "source": [
    "2) Let risk -free return be 3% solve a nonlinear optimization model to construct a portfolioof these four assets to maximize the Sharpe Ratio."
   ]
  },
  {
   "cell_type": "code",
   "execution_count": 11,
   "metadata": {},
   "outputs": [
    {
     "name": "stdout",
     "output_type": "stream",
     "text": [
      "Optimal k: 0.14894533186969777\n",
      "Optimal y: [5.11731844e-17 1.81559434e-02 1.25313935e-01 5.47545351e-03]\n",
      "Optimal x: [3.43570247e-16 1.21896693e-01 8.41341809e-01 3.67614979e-02]\n",
      "Optimal Sharpe ratio is 2.1110806469204175\n"
     ]
    }
   ],
   "source": [
    "from scipy.optimize import minimize\n",
    "# using trick\n",
    "\n",
    "# minimize y_t @ cov_matrix @ y\n",
    "def objective(params):\n",
    "    k = params[0]\n",
    "    y = params[1:]\n",
    "    return y @ cov_matrix @ y\n",
    "\n",
    "# Constraint 1: Sum of y equals k\n",
    "def constraint1(params):\n",
    "    k = params[0]\n",
    "    y = params[1:]\n",
    "    return np.sum(y) - k\n",
    "\n",
    "# Constraint 2: Weighted sum of (expected_returns - rf) @ y equals 1\n",
    "def constraint2(params):\n",
    "    k = params[0]\n",
    "    y = params[1:]\n",
    "    return np.sum((expected_returns - 0.03) * y) - 1\n",
    "\n",
    "cons = (\n",
    "    {'type': 'eq', 'fun': constraint1},\n",
    "    {'type': 'eq', 'fun': constraint2}\n",
    ")\n",
    "\n",
    "# Initial guess\n",
    "initial_y = np.array([0.25, 0.25, 0.25, 0.25])\n",
    "initial_guess = [1] + list(initial_y)  # 1 for initial k and initial_y values for y\n",
    "\n",
    "# Bounds for k and y. k \n",
    "k_bounds = (0, None)\n",
    "y_bounds = [(0, None) for _ in initial_y]\n",
    "all_bounds = [k_bounds] + y_bounds\n",
    "\n",
    "result = minimize(objective, initial_guess, constraints=cons, bounds=all_bounds)\n",
    "\n",
    "k_opt = result.x[0]\n",
    "y_opt = result.x[1:]\n",
    "opt_x = y_opt/sum(y_opt)\n",
    "\n",
    "print(\"Optimal k:\", k_opt)\n",
    "print(\"Optimal y:\", y_opt)\n",
    "print(\"Optimal x:\", opt_x)\n",
    "print(f\"Optimal Sharpe ratio is {1/np.sqrt(y_opt @ cov_matrix @ y_opt)}\")"
   ]
  },
  {
   "cell_type": "markdown",
   "metadata": {},
   "source": [
    "3) Construct the portfolio of these four assets to minimize the MAD unter the condition that mean reaturn of the porfolio i sat least 9%"
   ]
  },
  {
   "cell_type": "code",
   "execution_count": 12,
   "metadata": {},
   "outputs": [],
   "source": [
    "returns = data"
   ]
  },
  {
   "cell_type": "code",
   "execution_count": 13,
   "metadata": {},
   "outputs": [
    {
     "name": "stdout",
     "output_type": "stream",
     "text": [
      "Optimal x: [0.01966769 0.04385879 0.91676811 0.0197054 ]\n"
     ]
    }
   ],
   "source": [
    "# Mad objective functions\n",
    "def mean_absolute_deviation(x,mean_returns,returns):\n",
    "    portfolio_return = returns @ x\n",
    "    expected_return = x @ mean_returns\n",
    "    return np.mean(np.abs(portfolio_return - expected_return))\n",
    "\n",
    "def constraint1(x):\n",
    "    return np.sum(x) - 1\n",
    "\n",
    "def constraint2(x):\n",
    "    return x @ expected_returns - 0.09\n",
    "\n",
    "cons = (\n",
    "    {'type': 'eq', 'fun': constraint1},\n",
    "    {'type': 'ineq', 'fun': constraint2}\n",
    ")\n",
    "\n",
    "initial_x = np.array([0.25, 0.25, 0.25, 0.25])\n",
    "\n",
    "# Bounds for x. Each element of x should be between 0 and 1.\n",
    "x_bounds = [(0, 1) for _ in initial_x]\n",
    "result = minimize(lambda x: mean_absolute_deviation(x, expected_returns, returns), initial_x, constraints=cons, bounds=x_bounds)\n",
    "optimal_x = result.x\n",
    "\n",
    "print(\"Optimal x:\", optimal_x)"
   ]
  }
 ],
 "metadata": {
  "kernelspec": {
   "display_name": "base",
   "language": "python",
   "name": "python3"
  },
  "language_info": {
   "codemirror_mode": {
    "name": "ipython",
    "version": 3
   },
   "file_extension": ".py",
   "mimetype": "text/x-python",
   "name": "python",
   "nbconvert_exporter": "python",
   "pygments_lexer": "ipython3",
   "version": "3.11.4"
  },
  "orig_nbformat": 4
 },
 "nbformat": 4,
 "nbformat_minor": 2
}
