{
 "cells": [
  {
   "cell_type": "markdown",
   "metadata": {},
   "source": [
    "# IE524 HW2  Solution"
   ]
  },
  {
   "cell_type": "markdown",
   "metadata": {},
   "source": [
    "## Problem 1\n",
    "The problem can be formulated as:\n",
    "$$\\begin{array}{ll@{}ll}\n",
    "\\min  & \\frac1T\\sum_{t=1}^T|\\sum_{i=1}^n(R_i(t)-r_i)x_i|\\\\\n",
    "\\text{s.t.}& \\sum_{i=1}^n r_ix_i\\ge\\bar{R}\\\\\n",
    "&\\sum_{i=1}^n x_i\\le1\\\\\n",
    "&x_i\\ge0,\\,\\forall 1\\le i\\le n.\n",
    "\\end{array}$$\n",
    "But the absolute value function is not linear so we have to reformulate it to an LP:\n",
    "$$\\begin{array}{ll@{}ll}\n",
    "\\min  & \\frac1T\\sum_{t=1}^T z_t\\\\\n",
    "\\text{s.t.}& z_t\\ge\\sum_{i=1}^n(R_i(t)-r_i)x_i,\\,\\forall 1\\le t\\le T \\\\\n",
    "&z_t\\ge-\\sum_{i=1}^n(R_i(t)-r_i)x_i,\\,\\forall 1\\le t\\le T \\\\\n",
    "&\\sum_{i=1}^n r_ix_i\\ge\\bar{R}\\\\\n",
    "&\\sum_{i=1}^n x_i\\le1\\\\\n",
    "&x_i\\ge0,\\,\\forall 1\\le i\\le n.\n",
    "\\end{array}$$"
   ]
  },
  {
   "cell_type": "markdown",
   "metadata": {},
   "source": [
    "## Problem 2\n",
    "### 1.Model\n",
    "Decision variables we use:\n",
    "$$\\begin{array}{ll@{}ll}\n",
    "x_t:  & \\text{credit line after month }t\\\\\n",
    "y_i:  & \\text{amount of commercial paper }i\\\\\n",
    "z_t:  & \\text{new cash position after month }t\\\\\n",
    "\\end{array}$$\n",
    "\n",
    "The linear programming formulation is \n",
    "\n",
    "$$\\begin{array}{ll@{}ll}\n",
    "\\max  & V = z_6\\\\\n",
    "\\text{s.t.}& x_1+y_1+y_2-z_1 = 200\\\\\n",
    "&1.005z_1+x_2+y_3-1.01y_1-1.02x_1-z_2 = -100\\\\\n",
    "&1.005z_2+x_3+y_4-1.02x_2-z_3 = 150 \\\\\n",
    "&1.005z_3+x_4+y_5-1.05y_2-1.02x_3-z_4 = -50 \\\\\n",
    "&1.005z_4+x_5-1.04y_3-1.02x_4-z_5 = 300 \\\\\n",
    "&1.005z_5-1.05y_4-1.03y_5-1.02x_5-z_6 = -600\\\\\n",
    "&0\\le x_t\\le 100,\\,y_i\\ge0,\\,z_t\\ge0.\n",
    "\\end{array}$$"
   ]
  },
  {
   "cell_type": "code",
   "execution_count": 8,
   "metadata": {},
   "outputs": [],
   "source": [
    "from amplpy import AMPL"
   ]
  },
  {
   "cell_type": "code",
   "execution_count": 9,
   "metadata": {
    "scrolled": true
   },
   "outputs": [],
   "source": [
    "ampl1 = AMPL()\n",
    "ampl1.reset()\n",
    "ampl1.eval(r\"\"\"\n",
    "    # set\n",
    "    set MONTH = {1,2,3,4,5,6};\n",
    "    set COMMERCIAL_PAPER = {1,2,3,4,5};\n",
    "    \n",
    "    # decision variables\n",
    "    var x{MONTH}>=0, <=100;\n",
    "    var y{COMMERCIAL_PAPER}>=0;\n",
    "    var z{MONTH}>=0;\n",
    "    \n",
    "    # objective function\n",
    "    maximize Final_Cash_Position: z[6];\n",
    "    \n",
    "    # constraints\n",
    "    subject to month1: x[1]+y[1]+y[2]-z[1] = 200;\n",
    "    subject to month2: 1.005*z[1]+x[2]+y[3]-1.01*y[1]-1.02*x[1]-z[2] = -100;\n",
    "    subject to month3: 1.005*z[2]+x[3]+y[4]-1.02*x[2]-z[3] = 150;\n",
    "    subject to month4: 1.005*z[3]+x[4]+y[5]-1.05*y[2]-1.02*x[3]-z[4] = -50;\n",
    "    subject to month5: 1.005*z[4]+x[5]-1.04*y[3]-1.02*x[4]-z[5] = 300;\n",
    "    subject to month6: 1.005*z[5]-1.05*y[4]-1.03*y[5]-1.02*x[5]-z[6] = -600; \n",
    "\"\"\")"
   ]
  },
  {
   "cell_type": "markdown",
   "metadata": {},
   "source": [
    "### 2.Solve the problem"
   ]
  },
  {
   "cell_type": "code",
   "execution_count": 10,
   "metadata": {
    "scrolled": false
   },
   "outputs": [
    {
     "name": "stdout",
     "output_type": "stream",
     "text": [
      "Gurobi 10.0.2:   tech:outlev = 0\n",
      "\b\b\b\b\b\b\b\b\b\b\b\b\b\b\bGurobi 10.0.2: optimal solution; objective 78.30606965\n",
      "8 simplex iterations\n",
      " \n",
      "The Optimal Final Cash Position is: 78.30606965174127\n",
      "\n",
      "The amount of each commercial paper is:         y.val\n",
      "1  200.000000\n",
      "2    0.000000\n",
      "3  102.000000\n",
      "4  150.000000\n",
      "5  254.557214\n",
      "\n",
      "The credit line is:    x.val\n",
      "1      0\n",
      "2      0\n",
      "3      0\n",
      "4      0\n",
      "5    100\n",
      "6      0\n",
      "\n",
      "The resulting cash position in each month is:         z.val\n",
      "1    0.000000\n",
      "2    0.000000\n",
      "3    0.000000\n",
      "4  304.557214\n",
      "5    0.000000\n",
      "6   78.306070\n"
     ]
    }
   ],
   "source": [
    "ampl1.option[\"solver\"] = \"gurobi\"\n",
    "ampl1.option[\"gurobi_options\"] = 'outlev=0'\n",
    "ampl1.solve()\n",
    "\n",
    "FinalCashPosition = ampl1.get_objective(\"Final_Cash_Position\")\n",
    "print(\"The Optimal Final Cash Position is:\", FinalCashPosition.value())\n",
    "y = ampl1.get_variable(\"y\").get_values()\n",
    "print(\"\\nThe amount of each commercial paper is:\", y.to_pandas())\n",
    "x = ampl1.get_variable(\"x\").get_values()\n",
    "print(\"\\nThe credit line is:\", x.to_pandas())\n",
    "z = ampl1.get_variable(\"z\").get_values()\n",
    "print(\"\\nThe resulting cash position in each month is:\", z.to_pandas())"
   ]
  },
  {
   "cell_type": "markdown",
   "metadata": {},
   "source": [
    "### 3.1 Increasing the Interest Rate"
   ]
  },
  {
   "cell_type": "code",
   "execution_count": 11,
   "metadata": {},
   "outputs": [],
   "source": [
    "def model(IR):\n",
    "    ampl = AMPL()\n",
    "    ampl.reset()\n",
    "    ampl.eval(r\"\"\"\n",
    "        # set\n",
    "        set MONTH = {1,2,3,4,5,6};\n",
    "        set COMMERCIAL_PAPER = {1,2,3,4,5};\n",
    "    \n",
    "        # parameter\n",
    "        param IR;\n",
    "    \n",
    "        # decision variables\n",
    "        var x{MONTH}>=0, <=100;\n",
    "        var y{COMMERCIAL_PAPER}>=0;\n",
    "        var z{MONTH}>=0;\n",
    "    \n",
    "        # objective function\n",
    "        maximize Final_Cash_Position: z[6];\n",
    "    \n",
    "        # constraints\n",
    "        subject to month1: x[1]+y[1]+y[2]-z[1] = 200;\n",
    "        subject to month2: 1.005*z[1]+x[2]+y[3]-1.01*y[1]-(1+IR)*x[1]-z[2] = -100;\n",
    "        subject to month3: 1.005*z[2]+x[3]+y[4]-(1+IR)*x[2]-z[3] = 150;\n",
    "        subject to month4: 1.005*z[3]+x[4]+y[5]-1.05*y[2]-(1+IR)*x[3]-z[4] = -50;\n",
    "        subject to month5: 1.005*z[4]+x[5]-1.04*y[3]-(1+IR)*x[4]-z[5] = 300;\n",
    "        subject to month6: 1.005*z[5]-1.05*y[4]-1.03*y[5]-(1+IR)*x[5]-z[6] = -600; \n",
    "    \"\"\")\n",
    "    ampl.param[\"IR\"] = IR\n",
    "    ampl.option[\"solver\"] = \"gurobi\"\n",
    "    ampl.solve()\n",
    "    x = ampl.get_variable(\"x\").get_values().to_list(skip_index = True)\n",
    "    if all(x[i] ==0 for i in range(1,6)):\n",
    "        print(\"Interest Rate:%.3f, the company not uses credit line\"%IR)\n",
    "    else:\n",
    "        print(\"Interest Rate:%.3f, the company uses credit line\"%IR)"
   ]
  },
  {
   "cell_type": "markdown",
   "metadata": {},
   "source": [
    "First consider the case when interest rate = 0.03."
   ]
  },
  {
   "cell_type": "code",
   "execution_count": 12,
   "metadata": {},
   "outputs": [
    {
     "name": "stdout",
     "output_type": "stream",
     "text": [
      "Gurobi 10.0.2:Gurobi 10.0.2: optimal solution; objective 77.81850746\n",
      "8 simplex iterations\n",
      " \n",
      "Interest Rate:0.030, the company not uses credit line\n"
     ]
    }
   ],
   "source": [
    "model(0.03)"
   ]
  },
  {
   "cell_type": "markdown",
   "metadata": {},
   "source": [
    "Next, use line search to find the minimum value under which the company never uses credit line."
   ]
  },
  {
   "cell_type": "code",
   "execution_count": 13,
   "metadata": {},
   "outputs": [
    {
     "name": "stdout",
     "output_type": "stream",
     "text": [
      "\n",
      "\n",
      "Gurobi 10.0.2:Gurobi 10.0.2: optimal solution; objective 78.30606965\n",
      "8 simplex iterations\n",
      " \n",
      "Interest Rate:0.020, the company uses credit line\n",
      "\n",
      "\n",
      "Gurobi 10.0.2:Gurobi 10.0.2: optimal solution; objective 78.20606965\n",
      "8 simplex iterations\n",
      " \n",
      "Interest Rate:0.021, the company uses credit line\n",
      "\n",
      "\n",
      "Gurobi 10.0.2:Gurobi 10.0.2: optimal solution; objective 78.10606965\n",
      "8 simplex iterations\n",
      " \n",
      "Interest Rate:0.022, the company uses credit line\n",
      "\n",
      "\n",
      "Gurobi 10.0.2:Gurobi 10.0.2: optimal solution; objective 78.00606965\n",
      "8 simplex iterations\n",
      " \n",
      "Interest Rate:0.023, the company uses credit line\n",
      "\n",
      "\n",
      "Gurobi 10.0.2:Gurobi 10.0.2: optimal solution; objective 77.90606965\n",
      "8 simplex iterations\n",
      " \n",
      "Interest Rate:0.024, the company uses credit line\n",
      "\n",
      "\n",
      "Gurobi 10.0.2:Gurobi 10.0.2: optimal solution; objective 77.81850746\n",
      "8 simplex iterations\n",
      " \n",
      "Interest Rate:0.025, the company not uses credit line\n",
      "\n",
      "\n",
      "Gurobi 10.0.2:Gurobi 10.0.2: optimal solution; objective 77.81850746\n",
      "8 simplex iterations\n",
      " \n",
      "Interest Rate:0.026, the company not uses credit line\n",
      "\n",
      "\n",
      "Gurobi 10.0.2:Gurobi 10.0.2: optimal solution; objective 77.81850746\n",
      "8 simplex iterations\n",
      " \n",
      "Interest Rate:0.027, the company not uses credit line\n",
      "\n",
      "\n",
      "Gurobi 10.0.2:Gurobi 10.0.2: optimal solution; objective 77.81850746\n",
      "8 simplex iterations\n",
      " \n",
      "Interest Rate:0.028, the company not uses credit line\n",
      "\n",
      "\n",
      "Gurobi 10.0.2:Gurobi 10.0.2: optimal solution; objective 77.81850746\n",
      "8 simplex iterations\n",
      " \n",
      "Interest Rate:0.029, the company not uses credit line\n"
     ]
    }
   ],
   "source": [
    "IR = 0.02\n",
    "while(IR <= 0.03):\n",
    "    print(\"\\n\")\n",
    "    model(IR)\n",
    "    IR += 0.001"
   ]
  },
  {
   "cell_type": "markdown",
   "metadata": {},
   "source": [
    "So when interest rate is approximately 2.5%, the company start to not use credit line."
   ]
  },
  {
   "cell_type": "markdown",
   "metadata": {},
   "source": [
    "### 3.2 One Commercial Paper not available\n",
    "When one commercial paper is no longer available, we just need to remove the corresponding decision varaible $y_3$ from the model."
   ]
  },
  {
   "cell_type": "code",
   "execution_count": 14,
   "metadata": {},
   "outputs": [
    {
     "name": "stdout",
     "output_type": "stream",
     "text": [
      "Gurobi 10.0.2:Gurobi 10.0.2: optimal solution; objective 77.80408354\n",
      "8 simplex iterations\n",
      " \n",
      "The Optimal Final Cash Position is: 77.80408354268258\n",
      "\n",
      "The amount of each commercial paper is:         y.val\n",
      "1   99.009901\n",
      "2  100.990099\n",
      "4  150.000000\n",
      "5  255.044579\n",
      "\n",
      "The credit line is:    x.val\n",
      "1      0\n",
      "2      0\n",
      "3      0\n",
      "4      0\n",
      "5    100\n",
      "6      0\n",
      "\n",
      "The resulting cash position in each month is:         z.val\n",
      "1    0.000000\n",
      "2    0.000000\n",
      "3    0.000000\n",
      "4  199.004975\n",
      "5    0.000000\n",
      "6   77.804084\n"
     ]
    }
   ],
   "source": [
    "ampl2 = AMPL()\n",
    "ampl2.reset()\n",
    "ampl2.eval(r\"\"\"\n",
    "    # set\n",
    "    set MONTH = {1,2,3,4,5,6};\n",
    "    set COMMERCIAL_PAPER = {1,2,4,5};\n",
    "    \n",
    "    # decision variables\n",
    "    var x{MONTH}>=0, <=100;\n",
    "    var y{COMMERCIAL_PAPER}>=0;\n",
    "    var z{MONTH}>=0;\n",
    "    \n",
    "    # objective function\n",
    "    maximize Final_Cash_Position: z[6];\n",
    "    \n",
    "    # constraints\n",
    "    subject to month1: x[1]+y[1]+y[2]-z[1] = 200;\n",
    "    subject to month2: 1.005*z[1]+x[2]-1.01*y[1]-1.02*x[1]-z[2] = -100;\n",
    "    subject to month3: 1.005*z[2]+x[3]+y[4]-1.02*x[2]-z[3] = 150;\n",
    "    subject to month4: 1.005*z[3]+x[4]+y[5]-1.05*y[2]-1.02*x[3]-z[4] = -50;\n",
    "    subject to month5: 1.005*z[4]+x[5]-1.02*x[4]-z[5] = 300;\n",
    "    subject to month6: 1.005*z[5]-1.05*y[4]-1.03*y[5]-1.02*x[5]-z[6] = -600; \n",
    "\"\"\")\n",
    "ampl2.option[\"solver\"] = \"gurobi\"\n",
    "ampl2.solve()\n",
    "FinalCashPosition = ampl2.get_objective(\"Final_Cash_Position\")\n",
    "print(\"The Optimal Final Cash Position is:\", FinalCashPosition.value())\n",
    "y = ampl2.get_variable(\"y\").get_values()\n",
    "print(\"\\nThe amount of each commercial paper is:\", y.to_pandas())\n",
    "x = ampl2.get_variable(\"x\").get_values()\n",
    "print(\"\\nThe credit line is:\", x.to_pandas())\n",
    "z = ampl2.get_variable(\"z\").get_values()\n",
    "print(\"\\nThe resulting cash position in each month is:\", z.to_pandas())"
   ]
  },
  {
   "cell_type": "code",
   "execution_count": null,
   "metadata": {},
   "outputs": [],
   "source": []
  }
 ],
 "metadata": {
  "kernelspec": {
   "display_name": "Python 3",
   "language": "python",
   "name": "python3"
  },
  "language_info": {
   "codemirror_mode": {
    "name": "ipython",
    "version": 3
   },
   "file_extension": ".py",
   "mimetype": "text/x-python",
   "name": "python",
   "nbconvert_exporter": "python",
   "pygments_lexer": "ipython3",
   "version": "3.8.5"
  }
 },
 "nbformat": 4,
 "nbformat_minor": 2
}
