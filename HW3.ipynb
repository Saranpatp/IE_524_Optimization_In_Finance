{
 "cells": [
  {
   "cell_type": "code",
   "execution_count": 1,
   "metadata": {},
   "outputs": [
    {
     "name": "stdout",
     "output_type": "stream",
     "text": [
      "Gurobi 10.0.2: Gurobi 10.0.2: unbounded problem\n",
      "6 simplex iterations\n",
      "\n",
      "suffix unbdd OUT;\n",
      "Objective value: 0.0\n"
     ]
    },
    {
     "ename": "AttributeError",
     "evalue": "'tuple' object has no attribute 'name'",
     "output_type": "error",
     "traceback": [
      "\u001b[0;31m---------------------------------------------------------------------------\u001b[0m",
      "\u001b[0;31mAttributeError\u001b[0m                            Traceback (most recent call last)",
      "\u001b[1;32m/home/job/Documents/UIUC_MSFE/Semester3/IE_524_Optimization_In_Finance/HW3.ipynb Cell 1\u001b[0m line \u001b[0;36m<cell line: 38>\u001b[0;34m()\u001b[0m\n\u001b[1;32m     <a href='vscode-notebook-cell:/home/job/Documents/UIUC_MSFE/Semester3/IE_524_Optimization_In_Finance/HW3.ipynb#W0sZmlsZQ%3D%3D?line=36'>37</a>\u001b[0m \u001b[39mprint\u001b[39m(\u001b[39m'\u001b[39m\u001b[39mObjective value:\u001b[39m\u001b[39m'\u001b[39m, ampl\u001b[39m.\u001b[39mgetObjective(\u001b[39m'\u001b[39m\u001b[39mcost\u001b[39m\u001b[39m'\u001b[39m)\u001b[39m.\u001b[39mvalue())\n\u001b[1;32m     <a href='vscode-notebook-cell:/home/job/Documents/UIUC_MSFE/Semester3/IE_524_Optimization_In_Finance/HW3.ipynb#W0sZmlsZQ%3D%3D?line=37'>38</a>\u001b[0m \u001b[39mfor\u001b[39;00m variable \u001b[39min\u001b[39;00m ampl\u001b[39m.\u001b[39mgetVariables():\n\u001b[0;32m---> <a href='vscode-notebook-cell:/home/job/Documents/UIUC_MSFE/Semester3/IE_524_Optimization_In_Finance/HW3.ipynb#W0sZmlsZQ%3D%3D?line=38'>39</a>\u001b[0m     \u001b[39mprint\u001b[39m(\u001b[39mf\u001b[39m\u001b[39m'\u001b[39m\u001b[39m{\u001b[39;00mvariable\u001b[39m.\u001b[39mname\u001b[39m}\u001b[39;00m\u001b[39m = \u001b[39m\u001b[39m{\u001b[39;00mvariable\u001b[39m.\u001b[39mvalue()\u001b[39m}\u001b[39;00m\u001b[39m'\u001b[39m)\n",
      "\u001b[0;31mAttributeError\u001b[0m: 'tuple' object has no attribute 'name'"
     ]
    }
   ],
   "source": [
    "from amplpy import AMPL, Environment\n",
    "\n",
    "# Initialize AMPL environment\n",
    "ampl = AMPL()\n",
    "\n",
    "# Define the objective function and constraints\n",
    "ampl.eval('''\n",
    "var x1_b >= 0;\n",
    "var x2_b >= 0;\n",
    "var x3_b >= 0;\n",
    "var x4_b >= 0;\n",
    "var x5_b >= 0;\n",
    "var x6_b >= 0;\n",
    "var x1_s >= 0;\n",
    "var x2_s >= 0;\n",
    "var x3_s >= 0;\n",
    "var x4_s >= 0;\n",
    "var x5_s >= 0;\n",
    "var x6_s >= 0;\n",
    "\n",
    "minimize cost: 23.4*x1_b + 20.6*x2_b + 18*x3_b + 19*x4_b + 21.3*x5_b + 23.8*x6_b - 23*x1_s - 20.3*x2_s - 17.7*x3_s - 18.7*x4_s - 20.9*x5_s - 23.3*x6_s;\n",
    "\n",
    "subject to constraint1: -(x4_b-x4_s) - (x5_b-x5_s) - (x6_b-x6_s) >= 0;\n",
    "subject to constraint2: 5*(x5_b-x5_s) + 10*(x6_b-x6_s) >= 0;\n",
    "subject to constraint3: 5*(x6_b-x6_s) + 5*(x1_b-x1_s) >= 0;\n",
    "subject to constraint4: 10*(x1_b-x1_s) + 5*(x2_b-x2_s) >= 0;\n",
    "subject to constraint5: (x1_b-x1_s) + (x2_b-x2_s) + (x3_b-x3_s) >= 0;\n",
    "''')\n",
    "\n",
    "ampl.setOption('solver', 'gurobi')\n",
    "\n",
    "# Solve the problem\n",
    "ampl.solve()\n",
    "\n",
    "# Display the results\n",
    "print('Objective value:', ampl.getObjective('cost').value())\n",
    "for variable in ampl.getVariables():\n",
    "    print(f'{variable.name} = {variable.value()}')\n"
   ]
  }
 ],
 "metadata": {
  "kernelspec": {
   "display_name": "base",
   "language": "python",
   "name": "python3"
  },
  "language_info": {
   "codemirror_mode": {
    "name": "ipython",
    "version": 3
   },
   "file_extension": ".py",
   "mimetype": "text/x-python",
   "name": "python",
   "nbconvert_exporter": "python",
   "pygments_lexer": "ipython3",
   "version": "3.9.12"
  },
  "orig_nbformat": 4
 },
 "nbformat": 4,
 "nbformat_minor": 2
}
